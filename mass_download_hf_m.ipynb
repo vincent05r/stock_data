{
 "cells": [
  {
   "cell_type": "code",
   "execution_count": 1,
   "metadata": {},
   "outputs": [],
   "source": [
    "import yfinance as yf\n",
    "import pandas as pd\n",
    "from df_preprocessing import convert_to_pct\n",
    "import os\n",
    "\n",
    "import time\n",
    "import datetime"
   ]
  },
  {
   "cell_type": "code",
   "execution_count": 2,
   "metadata": {},
   "outputs": [],
   "source": [
    "dva_spec = False"
   ]
  },
  {
   "cell_type": "code",
   "execution_count": 3,
   "metadata": {},
   "outputs": [],
   "source": [
    "acl_18_ext_2016 = ['AAPL', 'ABB', 'ABBV', 'AEP', 'AMGN', 'AMZN', 'BA', 'BAC', 'BBL', 'BCH', 'BHP', 'BP', 'BRK-A', 'BSAC', 'BUD', 'C', 'CAT', 'CELG', 'CHL', 'CHTR', 'CMCSA', 'CODI', 'CSCO', 'CVX', 'D', 'DHR', 'DIS', 'DUK', 'EXC', 'FB', 'GD', 'GE', 'GOOG', 'HD', 'HON', 'HRG', 'HSBC', 'IEP', 'INTC', 'JNJ', 'JPM', 'KO', 'LMT', 'MA', 'MCD', 'MDT', 'MMM', 'MO', 'MRK', 'MSFT', 'NEE', 'NGG', 'NVS', 'ORCL', 'PCG', 'PCLN', 'PEP', 'PFE', 'PG', 'PICO', 'PM', 'PPL', 'PTR', 'RDS-B', 'REX', 'SLB', 'SNP', 'SNY', 'SO', 'SPLP', 'SRE', 'T', 'TM', 'TOT', 'TSM', 'UL', 'UN', 'UNH', 'UPS', 'UTX', 'V', 'VZ', 'WFC', 'WMT', 'XOM']"
   ]
  },
  {
   "cell_type": "markdown",
   "metadata": {},
   "source": [
    "# stock list data"
   ]
  },
  {
   "cell_type": "code",
   "execution_count": 4,
   "metadata": {},
   "outputs": [],
   "source": [
    "#daily interval\n",
    "stock_ticker_dict = {}\n",
    "\n",
    "for stock_name in acl_18_ext_2016:\n",
    "\n",
    "\n",
    "    start_date = datetime.datetime.strptime('2024-05-07', '%Y-%m-%d')\n",
    "    end_date = start_date + datetime.timedelta(days=6)\n",
    "\n",
    "    num_iterations = 5  # For example, you can set the number of iterations you want\n",
    "\n",
    "    data_frames = [] # List to store each DataFrame\n",
    "\n",
    "    c_ticker = yf.Ticker(stock_name)\n",
    "\n",
    "    for _ in range(num_iterations):\n",
    "\n",
    "        # Convert dates to string format required by the history function\n",
    "        start_str = start_date.strftime(\"%Y-%m-%d\")\n",
    "        end_str = end_date.strftime(\"%Y-%m-%d\")\n",
    "\n",
    "        \n",
    "        # Fetch data\n",
    "        c_data = c_ticker.history(start=start_str, end=end_str, interval='1m')\n",
    "        \n",
    "        # Add the DataFrame to the list\n",
    "        data_frames.append(c_data)\n",
    "        \n",
    "        # Increment the dates by 7 days\n",
    "        start_date += datetime.timedelta(days=7)\n",
    "        end_date += datetime.timedelta(days=7)\n",
    "\n",
    "        time.sleep(0.1)\n",
    "\n",
    "    merged_data = pd.concat(data_frames)\n",
    "\n",
    "    stock_ticker_dict[stock_name] = [c_ticker, merged_data]\n",
    "\n",
    "    break\n",
    "    "
   ]
  },
  {
   "cell_type": "code",
   "execution_count": 5,
   "metadata": {},
   "outputs": [
    {
     "data": {
      "text/html": [
       "<div>\n",
       "<style scoped>\n",
       "    .dataframe tbody tr th:only-of-type {\n",
       "        vertical-align: middle;\n",
       "    }\n",
       "\n",
       "    .dataframe tbody tr th {\n",
       "        vertical-align: top;\n",
       "    }\n",
       "\n",
       "    .dataframe thead th {\n",
       "        text-align: right;\n",
       "    }\n",
       "</style>\n",
       "<table border=\"1\" class=\"dataframe\">\n",
       "  <thead>\n",
       "    <tr style=\"text-align: right;\">\n",
       "      <th></th>\n",
       "      <th>Open</th>\n",
       "      <th>High</th>\n",
       "      <th>Low</th>\n",
       "      <th>Close</th>\n",
       "      <th>Volume</th>\n",
       "      <th>Dividends</th>\n",
       "      <th>Stock Splits</th>\n",
       "    </tr>\n",
       "    <tr>\n",
       "      <th>Datetime</th>\n",
       "      <th></th>\n",
       "      <th></th>\n",
       "      <th></th>\n",
       "      <th></th>\n",
       "      <th></th>\n",
       "      <th></th>\n",
       "      <th></th>\n",
       "    </tr>\n",
       "  </thead>\n",
       "  <tbody>\n",
       "    <tr>\n",
       "      <th>2024-05-07 09:30:00-04:00</th>\n",
       "      <td>183.449997</td>\n",
       "      <td>184.009995</td>\n",
       "      <td>183.449997</td>\n",
       "      <td>183.800095</td>\n",
       "      <td>4686964</td>\n",
       "      <td>0.0</td>\n",
       "      <td>0.0</td>\n",
       "    </tr>\n",
       "    <tr>\n",
       "      <th>2024-05-07 09:31:00-04:00</th>\n",
       "      <td>183.820007</td>\n",
       "      <td>183.970001</td>\n",
       "      <td>183.690002</td>\n",
       "      <td>183.865005</td>\n",
       "      <td>410876</td>\n",
       "      <td>0.0</td>\n",
       "      <td>0.0</td>\n",
       "    </tr>\n",
       "    <tr>\n",
       "      <th>2024-05-07 09:32:00-04:00</th>\n",
       "      <td>183.860001</td>\n",
       "      <td>183.970001</td>\n",
       "      <td>183.669998</td>\n",
       "      <td>183.770004</td>\n",
       "      <td>457853</td>\n",
       "      <td>0.0</td>\n",
       "      <td>0.0</td>\n",
       "    </tr>\n",
       "    <tr>\n",
       "      <th>2024-05-07 09:33:00-04:00</th>\n",
       "      <td>183.770004</td>\n",
       "      <td>183.910004</td>\n",
       "      <td>183.620102</td>\n",
       "      <td>183.779999</td>\n",
       "      <td>309372</td>\n",
       "      <td>0.0</td>\n",
       "      <td>0.0</td>\n",
       "    </tr>\n",
       "    <tr>\n",
       "      <th>2024-05-07 09:34:00-04:00</th>\n",
       "      <td>183.789993</td>\n",
       "      <td>183.800003</td>\n",
       "      <td>183.335098</td>\n",
       "      <td>183.390106</td>\n",
       "      <td>386956</td>\n",
       "      <td>0.0</td>\n",
       "      <td>0.0</td>\n",
       "    </tr>\n",
       "  </tbody>\n",
       "</table>\n",
       "</div>"
      ],
      "text/plain": [
       "                                 Open        High         Low       Close  \\\n",
       "Datetime                                                                    \n",
       "2024-05-07 09:30:00-04:00  183.449997  184.009995  183.449997  183.800095   \n",
       "2024-05-07 09:31:00-04:00  183.820007  183.970001  183.690002  183.865005   \n",
       "2024-05-07 09:32:00-04:00  183.860001  183.970001  183.669998  183.770004   \n",
       "2024-05-07 09:33:00-04:00  183.770004  183.910004  183.620102  183.779999   \n",
       "2024-05-07 09:34:00-04:00  183.789993  183.800003  183.335098  183.390106   \n",
       "\n",
       "                            Volume  Dividends  Stock Splits  \n",
       "Datetime                                                     \n",
       "2024-05-07 09:30:00-04:00  4686964        0.0           0.0  \n",
       "2024-05-07 09:31:00-04:00   410876        0.0           0.0  \n",
       "2024-05-07 09:32:00-04:00   457853        0.0           0.0  \n",
       "2024-05-07 09:33:00-04:00   309372        0.0           0.0  \n",
       "2024-05-07 09:34:00-04:00   386956        0.0           0.0  "
      ]
     },
     "execution_count": 5,
     "metadata": {},
     "output_type": "execute_result"
    }
   ],
   "source": [
    "stock_ticker_dict['AAPL'][1].head()"
   ]
  },
  {
   "cell_type": "code",
   "execution_count": 6,
   "metadata": {},
   "outputs": [
    {
     "ename": "KeyError",
     "evalue": "'ABB'",
     "output_type": "error",
     "traceback": [
      "\u001b[1;31m---------------------------------------------------------------------------\u001b[0m",
      "\u001b[1;31mKeyError\u001b[0m                                  Traceback (most recent call last)",
      "Cell \u001b[1;32mIn[6], line 8\u001b[0m\n\u001b[0;32m      5\u001b[0m temp_l \u001b[38;5;241m=\u001b[39m []\n\u001b[0;32m      7\u001b[0m \u001b[38;5;28;01mfor\u001b[39;00m stock_name \u001b[38;5;129;01min\u001b[39;00m acl_18_ext_2016:\n\u001b[1;32m----> 8\u001b[0m     \u001b[38;5;28;01mif\u001b[39;00m \u001b[38;5;129;01mnot\u001b[39;00m \u001b[43mstock_ticker_dict\u001b[49m\u001b[43m[\u001b[49m\u001b[43mstock_name\u001b[49m\u001b[43m]\u001b[49m[\u001b[38;5;241m1\u001b[39m]\u001b[38;5;241m.\u001b[39mempty:\n\u001b[0;32m      9\u001b[0m         temp_l\u001b[38;5;241m.\u001b[39mappend(stock_name)\n\u001b[0;32m     11\u001b[0m acl_18_ext_2016 \u001b[38;5;241m=\u001b[39m temp_l\n",
      "\u001b[1;31mKeyError\u001b[0m: 'ABB'"
     ]
    }
   ],
   "source": [
    "# stock_ticker_dict['ABB'][1].empty\n",
    "\n",
    "#check empty\n",
    "\n",
    "temp_l = []\n",
    "\n",
    "for stock_name in acl_18_ext_2016:\n",
    "    if not stock_ticker_dict[stock_name][1].empty:\n",
    "        temp_l.append(stock_name)\n",
    "\n",
    "acl_18_ext_2016 = temp_l\n"
   ]
  },
  {
   "cell_type": "code",
   "execution_count": 7,
   "metadata": {},
   "outputs": [
    {
     "data": {
      "text/plain": [
       "85"
      ]
     },
     "execution_count": 7,
     "metadata": {},
     "output_type": "execute_result"
    }
   ],
   "source": [
    "len(acl_18_ext_2016)"
   ]
  },
  {
   "cell_type": "code",
   "execution_count": 8,
   "metadata": {},
   "outputs": [],
   "source": [
    "for stock_name in acl_18_ext_2016:\n",
    "\n",
    "    pct_list = ['open', 'high', 'low', 'close']\n",
    "    \n",
    "    #original\n",
    "    stock_ticker_dict[stock_name][1].drop(['Dividends', 'Stock Splits'], axis=1, inplace=True)\n",
    "    stock_ticker_dict[stock_name][1] = stock_ticker_dict[stock_name][1].reset_index()\n",
    "    stock_ticker_dict[stock_name][1] = stock_ticker_dict[stock_name][1].rename(columns=lambda x: x.lower())\n",
    "\n",
    "    #datetime info change\n",
    "    #temp_dt = pd.to_datetime(stock_ticker_dict[stock_name][1].date)\n",
    "    #stock_ticker_dict[stock_name][1]['datetime'] = temp_dt.dt.strftime('%Y-%m-%d')\n",
    "    \n",
    "\n",
    "    #pct\n",
    "    temp_data = stock_ticker_dict[stock_name][1].copy()\n",
    "    convert_to_pct(temp_data, pct_list, drop_NA=True)\n",
    "    temp_data = temp_data.reset_index().drop('index', axis=1)\n",
    "\n",
    "    stock_ticker_dict[stock_name].append(temp_data)\n",
    "\n",
    "    #add the target\n",
    "    if dva_spec:\n",
    "        stock_ticker_dict[stock_name][2]['target'] = stock_ticker_dict[stock_name][1]['close'].copy()\n",
    "        pct_list.append('target')\n",
    "\n",
    "    break\n",
    "    \n",
    "\n",
    "\n",
    "    "
   ]
  },
  {
   "cell_type": "code",
   "execution_count": null,
   "metadata": {},
   "outputs": [],
   "source": [
    "# #test\n",
    "# dtx = sp_500_data[sp_500_data['index_date'].isin(stock_ticker_dict['AAPL'][2]['date'])].reset_index().drop('index', axis=1)\n",
    "# dtx_m = pd.concat([stock_ticker_dict['AAPL'][2], dtx], axis=1, join='outer')\n",
    "# # dtx = dtx.rename(columns={'index_date':'date'})\n",
    "# # dtx.date = pd.to_datetime(dtx.date)\n",
    "# # stock_ticker_dict['AAPL'][2].date = pd.to_datetime(stock_ticker_dict['AAPL'][2].date)\n",
    "# # dtx_m = pd.merge(stock_ticker_dict['AAPL'][2], index_match_df, on='date', how='left')"
   ]
  },
  {
   "cell_type": "code",
   "execution_count": null,
   "metadata": {},
   "outputs": [],
   "source": [
    "# display(dtx[-10:])\n",
    "# display(dtx_m)\n",
    "# acl_18_ext[0]"
   ]
  },
  {
   "cell_type": "code",
   "execution_count": null,
   "metadata": {},
   "outputs": [],
   "source": [
    "\n",
    "display(stock_ticker_dict[acl_18_ext_2016[0]][1])\n",
    "display(stock_ticker_dict[acl_18_ext_2016[0]][2])"
   ]
  },
  {
   "cell_type": "code",
   "execution_count": 9,
   "metadata": {},
   "outputs": [
    {
     "ename": "KeyError",
     "evalue": "'ABB'",
     "output_type": "error",
     "traceback": [
      "\u001b[1;31m---------------------------------------------------------------------------\u001b[0m",
      "\u001b[1;31mKeyError\u001b[0m                                  Traceback (most recent call last)",
      "Cell \u001b[1;32mIn[9], line 28\u001b[0m\n\u001b[0;32m     26\u001b[0m \u001b[38;5;28;01mif\u001b[39;00m save_pct:\n\u001b[0;32m     27\u001b[0m     file_pct \u001b[38;5;241m=\u001b[39m folder_pct \u001b[38;5;241m+\u001b[39m stock_name\u001b[38;5;241m+\u001b[39m\u001b[38;5;124m'\u001b[39m\u001b[38;5;124m_pct.csv\u001b[39m\u001b[38;5;124m'\u001b[39m\n\u001b[1;32m---> 28\u001b[0m     \u001b[43mstock_ticker_dict\u001b[49m\u001b[43m[\u001b[49m\u001b[43mstock_name\u001b[49m\u001b[43m]\u001b[49m[\u001b[38;5;241m2\u001b[39m]\u001b[38;5;241m.\u001b[39mto_csv(file_pct, index\u001b[38;5;241m=\u001b[39m\u001b[38;5;28;01mFalse\u001b[39;00m)\n\u001b[0;32m     30\u001b[0m \u001b[38;5;28;01mif\u001b[39;00m save_pct_index:\n\u001b[0;32m     31\u001b[0m     file_pct_index \u001b[38;5;241m=\u001b[39m folder_pct_index \u001b[38;5;241m+\u001b[39m stock_name \u001b[38;5;241m+\u001b[39m \u001b[38;5;124m'\u001b[39m\u001b[38;5;124m_pct_index.csv\u001b[39m\u001b[38;5;124m'\u001b[39m\n",
      "\u001b[1;31mKeyError\u001b[0m: 'ABB'"
     ]
    }
   ],
   "source": [
    "save_raw = False\n",
    "save_pct = True\n",
    "save_pct_index = False\n",
    "\n",
    "\n",
    "#export csv\n",
    "folder_raw = 'EcmP_stock_L_2016_24_dva_spec/'\n",
    "folder_pct = 'hf_m/'\n",
    "folder_pct_index = 'stock_us_pctindex/'\n",
    "\n",
    "if not os.path.exists(folder_raw) and save_raw:\n",
    "    os.makedirs(folder_raw)\n",
    "\n",
    "if not os.path.exists(folder_pct) and save_pct:\n",
    "    os.makedirs(folder_pct)\n",
    "\n",
    "if not os.path.exists(folder_pct_index) and save_pct_index:\n",
    "    os.makedirs(folder_pct_index)\n",
    "\n",
    "for stock_name in acl_18_ext_2016:\n",
    "\n",
    "    if save_raw:\n",
    "        file_ori = folder_raw + stock_name+'.csv'\n",
    "        stock_ticker_dict[stock_name][1].to_csv(file_ori, index=False)\n",
    "\n",
    "    if save_pct:\n",
    "        file_pct = folder_pct + stock_name+'_pct.csv'\n",
    "        stock_ticker_dict[stock_name][2].to_csv(file_pct, index=False)\n",
    "\n",
    "    if save_pct_index:\n",
    "        file_pct_index = folder_pct_index + stock_name + '_pct_index.csv'\n",
    "        stock_ticker_dict[stock_name][3].to_csv(file_pct_index, index=False)"
   ]
  },
  {
   "cell_type": "markdown",
   "metadata": {},
   "source": [
    "1) apple \n",
    "2) Lockheed Martin \n",
    "3) Boeing \n",
    "4) AT&T\n",
    "5) Netflix\n",
    "6) tsmc\n",
    "7) asml\n",
    "8) intel\n",
    "9) nvidia \n",
    "10) amd\n",
    "11. HLX\n",
    "12. XPOF\n",
    "13. WGO\n",
    "14. MLTX\n",
    "15. WW\n",
    "16. INSW\n",
    "17. MLTX\n",
    "18. msft\n",
    "19. intc\n",
    "20.  jpmc\n",
    "21. amzn\n",
    "22. tsla"
   ]
  },
  {
   "cell_type": "code",
   "execution_count": null,
   "metadata": {},
   "outputs": [],
   "source": []
  }
 ],
 "metadata": {
  "kernelspec": {
   "display_name": "yahoo_data_download",
   "language": "python",
   "name": "python3"
  },
  "language_info": {
   "codemirror_mode": {
    "name": "ipython",
    "version": 3
   },
   "file_extension": ".py",
   "mimetype": "text/x-python",
   "name": "python",
   "nbconvert_exporter": "python",
   "pygments_lexer": "ipython3",
   "version": "3.9.18"
  },
  "orig_nbformat": 4
 },
 "nbformat": 4,
 "nbformat_minor": 2
}
