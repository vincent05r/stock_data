{
 "cells": [
  {
   "cell_type": "code",
   "execution_count": 1,
   "metadata": {},
   "outputs": [],
   "source": [
    "import os\n",
    "import pandas as pd"
   ]
  },
  {
   "cell_type": "code",
   "execution_count": 2,
   "metadata": {},
   "outputs": [
    {
     "ename": "SyntaxError",
     "evalue": "invalid syntax (1715661955.py, line 2)",
     "output_type": "error",
     "traceback": [
      "\u001b[1;36m  Cell \u001b[1;32mIn[2], line 2\u001b[1;36m\u001b[0m\n\u001b[1;33m    mse:0.6007243990898132, mae:0.5548581480979919, mape:1.7724995613098145, rse:1.026904821395874\u001b[0m\n\u001b[1;37m                          ^\u001b[0m\n\u001b[1;31mSyntaxError\u001b[0m\u001b[1;31m:\u001b[0m invalid syntax\n"
     ]
    }
   ],
   "source": [
    "AAPL_pct_index_50_1_PatchTST_stock_custom_ftMS_sl50_ll3_pl1_dm64_nh8_el2_dl1_df128_fc1_ebtimeF_dtTrue_Exp_0  \n",
    "mse:0.6007243990898132, mae:0.5548581480979919, mape:1.7724995613098145, rse:1.026904821395874\n",
    "\n",
    "BA_pct_index_80_1_PatchTST_stock_custom_ftMS_sl80_ll3_pl1_dm64_nh8_el2_dl1_df128_fc1_ebtimeF_dtTrue_Exp_0  \n",
    "mse:2.6294891834259033, mae:1.0444018840789795, mape:1.6149884462356567, rse:1.0191127061843872\n",
    "\n",
    "INTC_pct_index_50_1_PatchTST_stock_custom_ftMS_sl50_ll3_pl1_dm64_nh8_el2_dl1_df128_fc1_ebtimeF_dtTrue_Exp_0  \n",
    "mse:1.0210155248641968, mae:0.6977194547653198, mape:1.6103203296661377, rse:1.0279942750930786"
   ]
  },
  {
   "cell_type": "code",
   "execution_count": null,
   "metadata": {},
   "outputs": [],
   "source": [
    "dir = r'./stock_us_pctindex'\n",
    "\n",
    "for filename in os.listdir(dir):\n",
    "    fn = os.path.join(dir, filename)\n",
    "    if os.path.isfile(fn):\n",
    "        df = pd.read_csv(fn)\n",
    "        df_2 = df[50:]"
   ]
  },
  {
   "cell_type": "code",
   "execution_count": null,
   "metadata": {},
   "outputs": [],
   "source": [
    "aapl_df = pd.read_csv(r\"stock_us_pctindex\\INTC_pct_index.csv\")  \n",
    "aapl_df_p = aapl_df[-50:]"
   ]
  },
  {
   "cell_type": "code",
   "execution_count": null,
   "metadata": {},
   "outputs": [],
   "source": [
    "aapl_df_p.to_csv(\"intc_p.csv\", index=False)"
   ]
  },
  {
   "cell_type": "code",
   "execution_count": null,
   "metadata": {},
   "outputs": [],
   "source": []
  }
 ],
 "metadata": {
  "kernelspec": {
   "display_name": "yahoo_data_download",
   "language": "python",
   "name": "python3"
  },
  "language_info": {
   "codemirror_mode": {
    "name": "ipython",
    "version": 3
   },
   "file_extension": ".py",
   "mimetype": "text/x-python",
   "name": "python",
   "nbconvert_exporter": "python",
   "pygments_lexer": "ipython3",
   "version": "3.9.18"
  },
  "orig_nbformat": 4
 },
 "nbformat": 4,
 "nbformat_minor": 2
}
