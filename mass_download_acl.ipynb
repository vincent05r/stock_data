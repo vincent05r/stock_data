{
 "cells": [
  {
   "cell_type": "code",
   "execution_count": null,
   "metadata": {},
   "outputs": [],
   "source": [
    "import yfinance as yf\n",
    "import pandas as pd\n",
    "from df_preprocessing import convert_to_pct\n",
    "import os\n",
    "\n",
    "import time"
   ]
  },
  {
   "cell_type": "code",
   "execution_count": null,
   "metadata": {},
   "outputs": [],
   "source": [
    "dva_spec = True"
   ]
  },
  {
   "cell_type": "code",
   "execution_count": null,
   "metadata": {},
   "outputs": [],
   "source": [
    "acl_18_ext_2016 = ['AAPL', 'ABB', 'ABBV', 'AEP', 'AMGN', 'AMZN', 'BA', 'BAC', 'BBL', 'BCH', 'BHP', 'BP', 'BRK-A', 'BSAC', 'BUD', 'C', 'CAT', 'CELG', 'CHL', 'CHTR', 'CMCSA', 'CODI', 'CSCO', 'CVX', 'D', 'DHR', 'DIS', 'DUK', 'EXC', 'FB', 'GD', 'GE', 'GOOG', 'HD', 'HON', 'HRG', 'HSBC', 'IEP', 'INTC', 'JNJ', 'JPM', 'KO', 'LMT', 'MA', 'MCD', 'MDT', 'MMM', 'MO', 'MRK', 'MSFT', 'NEE', 'NGG', 'NVS', 'ORCL', 'PCG', 'PCLN', 'PEP', 'PFE', 'PG', 'PICO', 'PM', 'PPL', 'PTR', 'RDS-B', 'REX', 'SLB', 'SNP', 'SNY', 'SO', 'SPLP', 'SRE', 'T', 'TM', 'TOT', 'TSM', 'UL', 'UN', 'UNH', 'UPS', 'UTX', 'V', 'VZ', 'WFC', 'WMT', 'XOM']"
   ]
  },
  {
   "cell_type": "markdown",
   "metadata": {},
   "source": [
    "# stock list data"
   ]
  },
  {
   "cell_type": "code",
   "execution_count": null,
   "metadata": {},
   "outputs": [],
   "source": [
    "#daily interval\n",
    "stock_ticker_dict = {}\n",
    "\n",
    "for stock_name in acl_18_ext_2016:\n",
    "    \n",
    "    c_ticker = yf.Ticker(stock_name)\n",
    "    c_data = c_ticker.history(start='2016-01-01', end='2024-01-01', interval='1d')\n",
    "    stock_ticker_dict[stock_name] = [c_ticker, c_data]\n",
    "\n",
    "\n",
    "    time.sleep(0.5)"
   ]
  },
  {
   "cell_type": "code",
   "execution_count": null,
   "metadata": {},
   "outputs": [],
   "source": [
    "# stock_ticker_dict['ABB'][1].empty\n",
    "\n",
    "#check empty\n",
    "\n",
    "temp_l = []\n",
    "\n",
    "for stock_name in acl_18_ext_2016:\n",
    "    if not stock_ticker_dict[stock_name][1].empty:\n",
    "        temp_l.append(stock_name)\n",
    "\n",
    "acl_18_ext_2016 = temp_l\n"
   ]
  },
  {
   "cell_type": "code",
   "execution_count": null,
   "metadata": {},
   "outputs": [],
   "source": [
    "len(acl_18_ext_2016)"
   ]
  },
  {
   "cell_type": "code",
   "execution_count": null,
   "metadata": {},
   "outputs": [],
   "source": [
    "for stock_name in acl_18_ext_2016:\n",
    "\n",
    "    pct_list = ['open', 'high', 'low', 'close']\n",
    "    \n",
    "    #original\n",
    "    stock_ticker_dict[stock_name][1].drop(['Dividends', 'Stock Splits'], axis=1, inplace=True)\n",
    "    stock_ticker_dict[stock_name][1] = stock_ticker_dict[stock_name][1].reset_index()\n",
    "    stock_ticker_dict[stock_name][1] = stock_ticker_dict[stock_name][1].rename(columns=lambda x: x.lower())\n",
    "\n",
    "    #datetime info change\n",
    "    temp_dt = pd.to_datetime(stock_ticker_dict[stock_name][1].date)\n",
    "    stock_ticker_dict[stock_name][1]['date'] = temp_dt.dt.strftime('%Y-%m-%d')\n",
    "    #add the target\n",
    "    if dva_spec:\n",
    "        stock_ticker_dict[stock_name][1]['target'] = stock_ticker_dict[stock_name][1]['close'].copy()\n",
    "        pct_list.append('target')\n",
    "    \n",
    "\n",
    "    #pct\n",
    "    temp_data = stock_ticker_dict[stock_name][1].copy()\n",
    "    convert_to_pct(temp_data, pct_list, drop_inplace=True, drop_NA=True)\n",
    "    temp_data = temp_data.reset_index().drop('index', axis=1)\n",
    "\n",
    "    #temp_renaming for dva\n",
    "    temp_data.rename(columns={\"open_pct_change\": \"open\", \"high_pct_change\": \"high\", 'low_pct_change': \"low\", \"close_pct_change\": \"close\", \"target_pct_change\": \"target\"})\n",
    "\n",
    "    stock_ticker_dict[stock_name].append(temp_data)\n",
    "\n",
    "\n",
    "    \n",
    "\n",
    "\n",
    "    "
   ]
  },
  {
   "cell_type": "code",
   "execution_count": null,
   "metadata": {},
   "outputs": [],
   "source": [
    "# #test\n",
    "# dtx = sp_500_data[sp_500_data['index_date'].isin(stock_ticker_dict['AAPL'][2]['date'])].reset_index().drop('index', axis=1)\n",
    "# dtx_m = pd.concat([stock_ticker_dict['AAPL'][2], dtx], axis=1, join='outer')\n",
    "# # dtx = dtx.rename(columns={'index_date':'date'})\n",
    "# # dtx.date = pd.to_datetime(dtx.date)\n",
    "# # stock_ticker_dict['AAPL'][2].date = pd.to_datetime(stock_ticker_dict['AAPL'][2].date)\n",
    "# # dtx_m = pd.merge(stock_ticker_dict['AAPL'][2], index_match_df, on='date', how='left')"
   ]
  },
  {
   "cell_type": "code",
   "execution_count": null,
   "metadata": {},
   "outputs": [],
   "source": [
    "# display(dtx[-10:])\n",
    "# display(dtx_m)\n",
    "# acl_18_ext[0]"
   ]
  },
  {
   "cell_type": "code",
   "execution_count": null,
   "metadata": {},
   "outputs": [],
   "source": [
    "\n",
    "display(stock_ticker_dict[acl_18_ext_2016[0]][1])\n",
    "display(stock_ticker_dict[acl_18_ext_2016[0]][2])"
   ]
  },
  {
   "cell_type": "code",
   "execution_count": null,
   "metadata": {},
   "outputs": [],
   "source": [
    "save_raw = False\n",
    "save_pct = True\n",
    "save_pct_index = False\n",
    "\n",
    "\n",
    "#export csv\n",
    "folder_raw = 'EcmP_stock_L_2016_24_dva_spec/'\n",
    "folder_pct = 'EcmP_stock_L_2016_24_spec_official_dva_spec/'\n",
    "folder_pct_index = 'stock_us_pctindex/'\n",
    "\n",
    "if not os.path.exists(folder_raw):\n",
    "    os.makedirs(folder_raw)\n",
    "\n",
    "if not os.path.exists(folder_pct):\n",
    "    os.makedirs(folder_pct)\n",
    "\n",
    "if not os.path.exists(folder_pct_index):\n",
    "    os.makedirs(folder_pct_index)\n",
    "\n",
    "for stock_name in acl_18_ext_2016:\n",
    "\n",
    "    if save_raw:\n",
    "        file_ori = folder_raw + stock_name+'.csv'\n",
    "        stock_ticker_dict[stock_name][1].to_csv(file_ori, index=False)\n",
    "\n",
    "    if save_pct:\n",
    "        file_pct = folder_pct + stock_name+'_pct.csv'\n",
    "        stock_ticker_dict[stock_name][2].to_csv(file_pct, index=False)\n",
    "\n",
    "    if save_pct_index:\n",
    "        file_pct_index = folder_pct_index + stock_name + '_pct_index.csv'\n",
    "        stock_ticker_dict[stock_name][3].to_csv(file_pct_index, index=False)"
   ]
  },
  {
   "cell_type": "markdown",
   "metadata": {},
   "source": [
    "1) apple \n",
    "2) Lockheed Martin \n",
    "3) Boeing \n",
    "4) AT&T\n",
    "5) Netflix\n",
    "6) tsmc\n",
    "7) asml\n",
    "8) intel\n",
    "9) nvidia \n",
    "10) amd\n",
    "11. HLX\n",
    "12. XPOF\n",
    "13. WGO\n",
    "14. MLTX\n",
    "15. WW\n",
    "16. INSW\n",
    "17. MLTX\n",
    "18. msft\n",
    "19. intc\n",
    "20.  jpmc\n",
    "21. amzn\n",
    "22. tsla"
   ]
  },
  {
   "cell_type": "code",
   "execution_count": null,
   "metadata": {},
   "outputs": [],
   "source": []
  }
 ],
 "metadata": {
  "kernelspec": {
   "display_name": "yahoo_data_download",
   "language": "python",
   "name": "python3"
  },
  "language_info": {
   "codemirror_mode": {
    "name": "ipython",
    "version": 3
   },
   "file_extension": ".py",
   "mimetype": "text/x-python",
   "name": "python",
   "nbconvert_exporter": "python",
   "pygments_lexer": "ipython3",
   "version": "3.9.18"
  },
  "orig_nbformat": 4
 },
 "nbformat": 4,
 "nbformat_minor": 2
}
