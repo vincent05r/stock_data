{
 "cells": [
  {
   "cell_type": "code",
   "execution_count": 1,
   "metadata": {},
   "outputs": [],
   "source": [
    "import yfinance as yf\n",
    "import pandas as pd\n",
    "from df_preprocessing import convert_to_pct"
   ]
  },
  {
   "cell_type": "code",
   "execution_count": 2,
   "metadata": {},
   "outputs": [],
   "source": [
    "google = yf.Ticker(ticker='GOOG')"
   ]
  },
  {
   "cell_type": "code",
   "execution_count": null,
   "metadata": {},
   "outputs": [],
   "source": []
  },
  {
   "cell_type": "code",
   "execution_count": 3,
   "metadata": {},
   "outputs": [
    {
     "data": {
      "text/plain": [
       "{'address1': '1600 Amphitheatre Parkway',\n",
       " 'city': 'Mountain View',\n",
       " 'state': 'CA',\n",
       " 'zip': '94043',\n",
       " 'country': 'United States',\n",
       " 'phone': '650 253 0000',\n",
       " 'website': 'https://www.abc.xyz',\n",
       " 'industry': 'Internet Content & Information',\n",
       " 'industryDisp': 'Internet Content & Information',\n",
       " 'sector': 'Communication Services',\n",
       " 'sectorDisp': 'Communication Services',\n",
       " 'longBusinessSummary': 'Alphabet Inc. offers various products and platforms in the United States, Europe, the Middle East, Africa, the Asia-Pacific, Canada, and Latin America. It operates through Google Services, Google Cloud, and Other Bets segments. The Google Services segment provides products and services, including ads, Android, Chrome, hardware, Gmail, Google Drive, Google Maps, Google Photos, Google Play, Search, and YouTube. It is also involved in the sale of apps and in-app purchases and digital content in the Google Play store; and Fitbit wearable devices, Google Nest home products, Pixel phones, and other devices, as well as in the provision of YouTube non-advertising services. The Google Cloud segment offers infrastructure, cybersecurity, data, analytics, AI, and machine learning, and other services; Google Workspace that include cloud-based collaboration tools for enterprises, such as Gmail, Docs, Drive, Calendar, and Meet; and other services for enterprise customers. The Other Bets segment sells health technology and internet services. The company was founded in 1998 and is headquartered in Mountain View, California.',\n",
       " 'fullTimeEmployees': 181798,\n",
       " 'companyOfficers': [{'maxAge': 1,\n",
       "   'name': 'Mr. Sundar  Pichai',\n",
       "   'age': 49,\n",
       "   'title': 'CEO & Director',\n",
       "   'yearBorn': 1973,\n",
       "   'fiscalYear': 2022,\n",
       "   'totalPay': 7947461,\n",
       "   'exercisedValue': 39618220,\n",
       "   'unexercisedValue': 0},\n",
       "  {'maxAge': 1,\n",
       "   'name': 'Ms. Ruth M. Porat',\n",
       "   'age': 64,\n",
       "   'title': 'Pres, Chief Investment Officer, Sr. VP & CFO',\n",
       "   'yearBorn': 1958,\n",
       "   'fiscalYear': 2022,\n",
       "   'totalPay': 1790046,\n",
       "   'exercisedValue': 0,\n",
       "   'unexercisedValue': 0},\n",
       "  {'maxAge': 1,\n",
       "   'name': 'Mr. Lawrence Edward Page',\n",
       "   'age': 49,\n",
       "   'title': 'Co-Founder & Director',\n",
       "   'yearBorn': 1973,\n",
       "   'fiscalYear': 2022,\n",
       "   'totalPay': 1,\n",
       "   'exercisedValue': 0,\n",
       "   'unexercisedValue': 0},\n",
       "  {'maxAge': 1,\n",
       "   'name': 'Mr. Sergey  Brin',\n",
       "   'age': 48,\n",
       "   'title': 'Co-Founder & Director',\n",
       "   'yearBorn': 1974,\n",
       "   'fiscalYear': 2022,\n",
       "   'totalPay': 1,\n",
       "   'exercisedValue': 0,\n",
       "   'unexercisedValue': 0},\n",
       "  {'maxAge': 1,\n",
       "   'name': 'Mr. J. Kent Walker',\n",
       "   'age': 61,\n",
       "   'title': 'Pres of Global Affairs, Chief Legal Officer & Company Sec.',\n",
       "   'yearBorn': 1961,\n",
       "   'fiscalYear': 2022,\n",
       "   'totalPay': 1787541,\n",
       "   'exercisedValue': 0,\n",
       "   'unexercisedValue': 0},\n",
       "  {'maxAge': 1,\n",
       "   'name': 'Dr. Prabhakar  Raghavan',\n",
       "   'age': 61,\n",
       "   'title': 'Sr. VP of Knowledge and Information - Google',\n",
       "   'yearBorn': 1961,\n",
       "   'fiscalYear': 2022,\n",
       "   'totalPay': 1785329,\n",
       "   'exercisedValue': 0,\n",
       "   'unexercisedValue': 0},\n",
       "  {'maxAge': 1,\n",
       "   'name': 'Mr. Philipp  Schindler',\n",
       "   'age': 51,\n",
       "   'title': 'Sr. VP & Chief Bus. Officer of Google',\n",
       "   'yearBorn': 1971,\n",
       "   'fiscalYear': 2022,\n",
       "   'totalPay': 1785814,\n",
       "   'exercisedValue': 0,\n",
       "   'unexercisedValue': 0},\n",
       "  {'maxAge': 1,\n",
       "   'name': \"Ms. Amie Thuener O'Toole\",\n",
       "   'age': 47,\n",
       "   'title': 'Chief Accounting Officer & VP',\n",
       "   'yearBorn': 1975,\n",
       "   'exercisedValue': 0,\n",
       "   'unexercisedValue': 0},\n",
       "  {'maxAge': 1,\n",
       "   'name': 'Ms. Ellen  West',\n",
       "   'title': 'VP of Investor Relations',\n",
       "   'exercisedValue': 0,\n",
       "   'unexercisedValue': 0},\n",
       "  {'maxAge': 1,\n",
       "   'name': 'Ms. Fiona Clare Cicconi',\n",
       "   'age': 56,\n",
       "   'title': 'Chief People Officer',\n",
       "   'yearBorn': 1966,\n",
       "   'exercisedValue': 0,\n",
       "   'unexercisedValue': 0}],\n",
       " 'auditRisk': 8,\n",
       " 'boardRisk': 6,\n",
       " 'compensationRisk': 10,\n",
       " 'shareHolderRightsRisk': 10,\n",
       " 'overallRisk': 10,\n",
       " 'governanceEpochDate': 1693526400,\n",
       " 'compensationAsOfEpochDate': 1672444800,\n",
       " 'maxAge': 86400,\n",
       " 'priceHint': 2,\n",
       " 'previousClose': 138.83,\n",
       " 'open': 138.83,\n",
       " 'dayLow': 134.52,\n",
       " 'dayHigh': 138.84,\n",
       " 'regularMarketPreviousClose': 138.83,\n",
       " 'regularMarketOpen': 138.83,\n",
       " 'regularMarketDayLow': 134.52,\n",
       " 'regularMarketDayHigh': 138.84,\n",
       " 'payoutRatio': 0.0,\n",
       " 'beta': 1.05982,\n",
       " 'trailingPE': 28.334736,\n",
       " 'forwardPE': 20.269579,\n",
       " 'volume': 21102389,\n",
       " 'regularMarketVolume': 21102389,\n",
       " 'averageVolume': 22329419,\n",
       " 'averageVolume10days': 20473640,\n",
       " 'averageDailyVolume10Day': 20473640,\n",
       " 'bid': 134.06,\n",
       " 'ask': 134.0,\n",
       " 'bidSize': 1100,\n",
       " 'askSize': 1200,\n",
       " 'marketCap': 1691836743680,\n",
       " 'fiftyTwoWeekLow': 83.45,\n",
       " 'fiftyTwoWeekHigh': 139.93,\n",
       " 'priceToSalesTrailing12Months': 5.84337,\n",
       " 'fiftyDayAverage': 131.0384,\n",
       " 'twoHundredDayAverage': 111.40122,\n",
       " 'trailingAnnualDividendRate': 0.0,\n",
       " 'trailingAnnualDividendYield': 0.0,\n",
       " 'currency': 'USD',\n",
       " 'enterpriseValue': 1608145305600,\n",
       " 'profitMargins': 0.21052,\n",
       " 'floatShares': 10881188730,\n",
       " 'sharesOutstanding': 5800999936,\n",
       " 'sharesShort': 31117001,\n",
       " 'sharesShortPriorMonth': 25471470,\n",
       " 'sharesShortPreviousMonthDate': 1690761600,\n",
       " 'dateShortInterest': 1693440000,\n",
       " 'sharesPercentSharesOut': 0.0025,\n",
       " 'heldPercentInsiders': 0.00016000001,\n",
       " 'heldPercentInstitutions': 0.6221,\n",
       " 'shortRatio': 1.55,\n",
       " 'impliedSharesOutstanding': 12570300416,\n",
       " 'bookValue': 21.153,\n",
       " 'priceToBook': 6.362691,\n",
       " 'lastFiscalYearEnd': 1672444800,\n",
       " 'nextFiscalYearEnd': 1703980800,\n",
       " 'mostRecentQuarter': 1688083200,\n",
       " 'earningsQuarterlyGrowth': 0.148,\n",
       " 'netIncomeToCommon': 60953001984,\n",
       " 'trailingEps': 4.75,\n",
       " 'forwardEps': 6.64,\n",
       " 'pegRatio': 1.34,\n",
       " 'lastSplitFactor': '20:1',\n",
       " 'lastSplitDate': 1658102400,\n",
       " 'enterpriseToRevenue': 5.554,\n",
       " 'enterpriseToEbitda': 17.6,\n",
       " '52WeekChange': 0.33827186,\n",
       " 'SandP52WeekChange': 0.17142403,\n",
       " 'exchange': 'NMS',\n",
       " 'quoteType': 'EQUITY',\n",
       " 'symbol': 'GOOG',\n",
       " 'underlyingSymbol': 'GOOG',\n",
       " 'shortName': 'Alphabet Inc.',\n",
       " 'longName': 'Alphabet Inc.',\n",
       " 'firstTradeDateEpochUtc': 1092922200,\n",
       " 'timeZoneFullName': 'America/New_York',\n",
       " 'timeZoneShortName': 'EDT',\n",
       " 'uuid': 'ee8cce8c-2475-31c0-8436-ecdf889cbfbd',\n",
       " 'messageBoardId': 'finmb_29096',\n",
       " 'gmtOffSetMilliseconds': -14400000,\n",
       " 'currentPrice': 134.59,\n",
       " 'targetHighPrice': 160.0,\n",
       " 'targetLowPrice': 120.0,\n",
       " 'targetMeanPrice': 142.3,\n",
       " 'targetMedianPrice': 144.0,\n",
       " 'recommendationMean': 1.6,\n",
       " 'recommendationKey': 'buy',\n",
       " 'numberOfAnalystOpinions': 10,\n",
       " 'totalCash': 118331998208,\n",
       " 'totalCashPerShare': 9.385,\n",
       " 'ebitda': 91374002176,\n",
       " 'totalDebt': 29432000512,\n",
       " 'quickRatio': 2.022,\n",
       " 'currentRatio': 2.172,\n",
       " 'totalRevenue': 289531002880,\n",
       " 'debtToEquity': 11.017,\n",
       " 'revenuePerShare': 22.547,\n",
       " 'returnOnAssets': 0.1296,\n",
       " 'returnOnEquity': 0.23329,\n",
       " 'grossProfits': 156633000000,\n",
       " 'freeCashflow': 68255125504,\n",
       " 'operatingCashflow': 99142000640,\n",
       " 'earningsGrowth': 0.191,\n",
       " 'revenueGrowth': 0.071,\n",
       " 'grossMargins': 0.55594003,\n",
       " 'ebitdaMargins': 0.31559,\n",
       " 'operatingMargins': 0.26437,\n",
       " 'financialCurrency': 'USD',\n",
       " 'trailingPegRatio': 1.3177}"
      ]
     },
     "execution_count": 3,
     "metadata": {},
     "output_type": "execute_result"
    }
   ],
   "source": [
    "google.info"
   ]
  },
  {
   "cell_type": "code",
   "execution_count": 4,
   "metadata": {},
   "outputs": [],
   "source": [
    "test_1 = google.history(period='max', interval='1d')"
   ]
  },
  {
   "cell_type": "code",
   "execution_count": 5,
   "metadata": {},
   "outputs": [
    {
     "data": {
      "text/plain": [
       "(4805, 7)"
      ]
     },
     "execution_count": 5,
     "metadata": {},
     "output_type": "execute_result"
    }
   ],
   "source": [
    "test_1.shape"
   ]
  },
  {
   "cell_type": "code",
   "execution_count": 6,
   "metadata": {},
   "outputs": [
    {
     "data": {
      "text/plain": [
       "Index(['Open', 'High', 'Low', 'Close', 'Volume', 'Dividends', 'Stock Splits'], dtype='object')"
      ]
     },
     "execution_count": 6,
     "metadata": {},
     "output_type": "execute_result"
    }
   ],
   "source": [
    "test_1.columns"
   ]
  },
  {
   "cell_type": "code",
   "execution_count": 7,
   "metadata": {},
   "outputs": [
    {
     "data": {
      "text/html": [
       "<div>\n",
       "<style scoped>\n",
       "    .dataframe tbody tr th:only-of-type {\n",
       "        vertical-align: middle;\n",
       "    }\n",
       "\n",
       "    .dataframe tbody tr th {\n",
       "        vertical-align: top;\n",
       "    }\n",
       "\n",
       "    .dataframe thead th {\n",
       "        text-align: right;\n",
       "    }\n",
       "</style>\n",
       "<table border=\"1\" class=\"dataframe\">\n",
       "  <thead>\n",
       "    <tr style=\"text-align: right;\">\n",
       "      <th></th>\n",
       "      <th>Open</th>\n",
       "      <th>High</th>\n",
       "      <th>Low</th>\n",
       "      <th>Close</th>\n",
       "      <th>Volume</th>\n",
       "      <th>Dividends</th>\n",
       "      <th>Stock Splits</th>\n",
       "    </tr>\n",
       "    <tr>\n",
       "      <th>Date</th>\n",
       "      <th></th>\n",
       "      <th></th>\n",
       "      <th></th>\n",
       "      <th></th>\n",
       "      <th></th>\n",
       "      <th></th>\n",
       "      <th></th>\n",
       "    </tr>\n",
       "  </thead>\n",
       "  <tbody>\n",
       "    <tr>\n",
       "      <th>2004-08-19 00:00:00-04:00</th>\n",
       "      <td>2.490664</td>\n",
       "      <td>2.591785</td>\n",
       "      <td>2.390042</td>\n",
       "      <td>2.499133</td>\n",
       "      <td>897427216</td>\n",
       "      <td>0.0</td>\n",
       "      <td>0.0</td>\n",
       "    </tr>\n",
       "    <tr>\n",
       "      <th>2004-08-20 00:00:00-04:00</th>\n",
       "      <td>2.515820</td>\n",
       "      <td>2.716817</td>\n",
       "      <td>2.503118</td>\n",
       "      <td>2.697639</td>\n",
       "      <td>458857488</td>\n",
       "      <td>0.0</td>\n",
       "      <td>0.0</td>\n",
       "    </tr>\n",
       "    <tr>\n",
       "      <th>2004-08-23 00:00:00-04:00</th>\n",
       "      <td>2.758411</td>\n",
       "      <td>2.826406</td>\n",
       "      <td>2.716070</td>\n",
       "      <td>2.724787</td>\n",
       "      <td>366857939</td>\n",
       "      <td>0.0</td>\n",
       "      <td>0.0</td>\n",
       "    </tr>\n",
       "    <tr>\n",
       "      <th>2004-08-24 00:00:00-04:00</th>\n",
       "      <td>2.770615</td>\n",
       "      <td>2.779581</td>\n",
       "      <td>2.579581</td>\n",
       "      <td>2.611960</td>\n",
       "      <td>306396159</td>\n",
       "      <td>0.0</td>\n",
       "      <td>0.0</td>\n",
       "    </tr>\n",
       "    <tr>\n",
       "      <th>2004-08-25 00:00:00-04:00</th>\n",
       "      <td>2.614201</td>\n",
       "      <td>2.689918</td>\n",
       "      <td>2.587302</td>\n",
       "      <td>2.640104</td>\n",
       "      <td>184645512</td>\n",
       "      <td>0.0</td>\n",
       "      <td>0.0</td>\n",
       "    </tr>\n",
       "  </tbody>\n",
       "</table>\n",
       "</div>"
      ],
      "text/plain": [
       "                               Open      High       Low     Close     Volume  \\\n",
       "Date                                                                           \n",
       "2004-08-19 00:00:00-04:00  2.490664  2.591785  2.390042  2.499133  897427216   \n",
       "2004-08-20 00:00:00-04:00  2.515820  2.716817  2.503118  2.697639  458857488   \n",
       "2004-08-23 00:00:00-04:00  2.758411  2.826406  2.716070  2.724787  366857939   \n",
       "2004-08-24 00:00:00-04:00  2.770615  2.779581  2.579581  2.611960  306396159   \n",
       "2004-08-25 00:00:00-04:00  2.614201  2.689918  2.587302  2.640104  184645512   \n",
       "\n",
       "                           Dividends  Stock Splits  \n",
       "Date                                                \n",
       "2004-08-19 00:00:00-04:00        0.0           0.0  \n",
       "2004-08-20 00:00:00-04:00        0.0           0.0  \n",
       "2004-08-23 00:00:00-04:00        0.0           0.0  \n",
       "2004-08-24 00:00:00-04:00        0.0           0.0  \n",
       "2004-08-25 00:00:00-04:00        0.0           0.0  "
      ]
     },
     "execution_count": 7,
     "metadata": {},
     "output_type": "execute_result"
    }
   ],
   "source": [
    "test_1.head()"
   ]
  },
  {
   "cell_type": "code",
   "execution_count": 8,
   "metadata": {},
   "outputs": [],
   "source": [
    "x = test_1.reset_index().copy()"
   ]
  },
  {
   "cell_type": "code",
   "execution_count": 9,
   "metadata": {},
   "outputs": [],
   "source": [
    "x = x.rename(columns={\"Date\":\"date\"})"
   ]
  },
  {
   "cell_type": "code",
   "execution_count": 11,
   "metadata": {},
   "outputs": [],
   "source": [
    "dct = pd.to_datetime(x.date)"
   ]
  },
  {
   "cell_type": "code",
   "execution_count": 18,
   "metadata": {},
   "outputs": [
    {
     "data": {
      "text/plain": [
       "0      2004-08-19 00:00:00-04:00\n",
       "1      2004-08-20 00:00:00-04:00\n",
       "2      2004-08-23 00:00:00-04:00\n",
       "3      2004-08-24 00:00:00-04:00\n",
       "4      2004-08-25 00:00:00-04:00\n",
       "                  ...           \n",
       "4800   2023-09-14 00:00:00-04:00\n",
       "4801   2023-09-15 00:00:00-04:00\n",
       "4802   2023-09-18 00:00:00-04:00\n",
       "4803   2023-09-19 00:00:00-04:00\n",
       "4804   2023-09-20 00:00:00-04:00\n",
       "Name: date, Length: 4805, dtype: datetime64[ns, America/New_York]"
      ]
     },
     "execution_count": 18,
     "metadata": {},
     "output_type": "execute_result"
    }
   ],
   "source": [
    "dct"
   ]
  },
  {
   "cell_type": "code",
   "execution_count": 44,
   "metadata": {},
   "outputs": [
    {
     "data": {
      "text/plain": [
       "0      2004-08-19 00:00:00-04:00\n",
       "1      2004-08-20 00:00:00-04:00\n",
       "2      2004-08-23 00:00:00-04:00\n",
       "3      2004-08-24 00:00:00-04:00\n",
       "4      2004-08-25 00:00:00-04:00\n",
       "                  ...           \n",
       "4798   2023-09-12 00:00:00-04:00\n",
       "4799   2023-09-13 00:00:00-04:00\n",
       "4800   2023-09-14 00:00:00-04:00\n",
       "4801   2023-09-15 00:00:00-04:00\n",
       "4802   2023-09-18 00:00:00-04:00\n",
       "Name: date, Length: 4803, dtype: datetime64[ns, America/New_York]"
      ]
     },
     "execution_count": 44,
     "metadata": {},
     "output_type": "execute_result"
    }
   ],
   "source": [
    "x.date"
   ]
  },
  {
   "cell_type": "code",
   "execution_count": null,
   "metadata": {},
   "outputs": [],
   "source": []
  }
 ],
 "metadata": {
  "kernelspec": {
   "display_name": "yahoo_data_download",
   "language": "python",
   "name": "python3"
  },
  "language_info": {
   "codemirror_mode": {
    "name": "ipython",
    "version": 3
   },
   "file_extension": ".py",
   "mimetype": "text/x-python",
   "name": "python",
   "nbconvert_exporter": "python",
   "pygments_lexer": "ipython3",
   "version": "3.9.18"
  },
  "orig_nbformat": 4
 },
 "nbformat": 4,
 "nbformat_minor": 2
}
